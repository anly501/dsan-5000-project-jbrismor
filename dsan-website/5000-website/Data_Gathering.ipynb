{
  "cells": [
    {
      "attachments": {},
      "cell_type": "markdown",
      "metadata": {},
      "source": [
        "---\n",
        "title: Data Gathering\n",
        "format:\n",
        "  html:\n",
        "    css: h1\n",
        "    embed-resources: true\n",
        "    code-fold: true\n",
        "---"
      ]
    },
    {
      "attachments": {},
      "cell_type": "markdown",
      "metadata": {},
      "source": [
        "All data files, whether generated using code or directly downloaded from the source can be found and downloaded in the data tab of the website."
      ]
    },
    {
      "attachments": {},
      "cell_type": "markdown",
      "metadata": {},
      "source": [
        "## APIs\n",
        "\n",
        "### Reddit API\n",
        "\n",
        "The following code extracted reddit urls from reddit posts about Public Transportation and saved them to a .json.\n"
      ]
    },
    {
      "attachments": {},
      "cell_type": "markdown",
      "metadata": {},
      "source": [
        "```{r}\n",
        "library(RedditExtractoR)\n",
        "library(jsonlite)\n",
        "\n",
        "top_Pub_Transp_urls <- find_thread_urls(keywords=\"public transportation\")\n",
        "jsonlite::write_json(top_Pub_Transp_urls, \"top_pub_transp_urls.json\")\n",
        "```"
      ]
    },
    {
      "attachments": {},
      "cell_type": "markdown",
      "metadata": {},
      "source": [
        "Then, the following code extracted the content of those reddit posts and performed sentiment analysis on them, generated a data frame, and saved it to a .csv file\n"
      ]
    },
    {
      "cell_type": "code",
      "execution_count": null,
      "metadata": {},
      "outputs": [],
      "source": [
        "import pandas as pd\n",
        "import json\n",
        "\n",
        "# Load the sentiment scores from the JSON file\n",
        "with open('sentiment_scores.json', 'r') as json_file:\n",
        "    sentiment_scores = json.load(json_file)\n",
        "\n",
        "# Initialize lists to store data\n",
        "ids = []\n",
        "neg_scores = []\n",
        "neu_scores = []\n",
        "pos_scores = []\n",
        "compound_scores = []\n",
        "\n",
        "# Extract the scores and create separate lists for each\n",
        "for idx, item in enumerate(sentiment_scores, start=1):\n",
        "    ids.append(idx)\n",
        "    sentiment_score = item.get('sentiment_score', {})\n",
        "    neg_scores.append(sentiment_score.get('neg', 0))\n",
        "    neu_scores.append(sentiment_score.get('neu', 0))\n",
        "    pos_scores.append(sentiment_score.get('pos', 0))\n",
        "    compound_scores.append(sentiment_score.get('compound', 0))\n",
        "\n",
        "# Create a DataFrame\n",
        "data = {\n",
        "    'ID': ids,\n",
        "    'Negative Score': neg_scores,\n",
        "    'Neutral Score': neu_scores,\n",
        "    'Positive Score': pos_scores,\n",
        "    'Compound Score': compound_scores\n",
        "}\n",
        "\n",
        "df = pd.DataFrame(data)\n",
        "\n",
        "# Save to CSV\n",
        "df.to_csv('sentiment_scores.csv', index=False)"
      ]
    },
    {
      "attachments": {},
      "cell_type": "markdown",
      "metadata": {},
      "source": [
        "The final data's first few rows look like this: "
      ]
    },
    {
      "attachments": {},
      "cell_type": "markdown",
      "metadata": {},
      "source": [
        "![](images/Sentiment_analysis.jpeg){width=25%, fig-align=\"center\"}"
      ]
    },
    {
      "attachments": {},
      "cell_type": "markdown",
      "metadata": {},
      "source": [
        "However, the text data has also been kept in a data file with another code so that later analysis can be performed on it."
      ]
    },
    {
      "attachments": {},
      "cell_type": "markdown",
      "metadata": {},
      "source": [
        "### API for cityofchicago.org"
      ]
    },
    {
      "attachments": {},
      "cell_type": "markdown",
      "metadata": {},
      "source": [
        "The following code extracted the following data frame about buses information and saved it into a csv file."
      ]
    },
    {
      "cell_type": "code",
      "execution_count": null,
      "metadata": {},
      "outputs": [],
      "source": [
        "import pandas as pd\n",
        "from sodapy import Socrata\n",
        "\n",
        "client = Socrata(\"data.cityofchicago.org\", None)\n",
        "\n",
        "results = client.get(\"bynn-gwxy\", limit=2000)\n",
        "\n",
        "# Convert to pandas DataFrame\n",
        "results_df = pd.DataFrame.from_records(results)\n",
        "\n",
        "# Save to CSV\n",
        "results_df.to_csv('Chicago_avg_Buses.csv')"
      ]
    },
    {
      "attachments": {},
      "cell_type": "markdown",
      "metadata": {},
      "source": [
        "This is a snapshot of the data:"
      ]
    },
    {
      "attachments": {},
      "cell_type": "markdown",
      "metadata": {},
      "source": [
        "![](images/Chicago_avg_bus.jpeg){width=50%, fig-align=\"center\"}"
      ]
    },
    {
      "attachments": {},
      "cell_type": "markdown",
      "metadata": {},
      "source": [
        "## Data from bts.gov"
      ]
    },
    {
      "attachments": {},
      "cell_type": "markdown",
      "metadata": {},
      "source": [
        "The files: bus_consumption_fuel_by_year.xlsx, energy_consumed_byMill_passenger_MILES.xlsx, fatalities_bus_over_time.xlsx, National_transport_usage_linked_Economic_trend.xlsx, and vehicle_production_countries.xlsx are downloaded from: https://www.bts.gov.\n",
        "\n",
        "These are some snapshots of how the data looks like:"
      ]
    },
    {
      "attachments": {},
      "cell_type": "markdown",
      "metadata": {},
      "source": [
        "![](images/Bus_consumption.jpeg){width=25%, fig-align=\"center\"}\n",
        "\n",
        "![](images/energy.jpeg){width=25%, fig-align=\"center\"}\n",
        "\n",
        "![](images/facilities_bus.jpeg){width=25%, fig-align=\"center\"}\n",
        "\n",
        "![](images/National_transp_usage.jpeg){width=25%, fig-align=\"center\"}\n",
        "\n",
        "![](images/vehicle_prod.jpeg){width=25%, fig-align=\"center\"}"
      ]
    },
    {
      "attachments": {},
      "cell_type": "markdown",
      "metadata": {},
      "source": [
        "## Data from International Transport Forum\n",
        "\n",
        "The file Value_transport_by_countries.csv was downloaded from: https://stats.oecd.org/Index.aspx?DataSetCode=ITF_PASSENGER_TRANSPORT "
      ]
    },
    {
      "attachments": {},
      "cell_type": "markdown",
      "metadata": {},
      "source": [
        "The data on that file looks like this:"
      ]
    },
    {
      "attachments": {},
      "cell_type": "markdown",
      "metadata": {},
      "source": [
        "![](images/value_transp_countries.jpeg){width=25%, fig-align=\"center\"}"
      ]
    },
    {
      "attachments": {},
      "cell_type": "markdown",
      "metadata": {},
      "source": [
        "## Data from data.world"
      ]
    },
    {
      "attachments": {},
      "cell_type": "markdown",
      "metadata": {},
      "source": [
        "The file DC_Metro_Scorecard.xlsx and the zip folders: Walkable_distance_to_PubTrans, and capmetro_smart_trips_questionaire zip folders contain data that was downloaded from data.world. These are the three links where the data was downloaded from(in order of mention):\n",
        "\n",
        "- https://data.world/makeovermonday/2016w51\n",
        "- https://data.world/chhs/5e391154-f07d-4e0c-ab1b-687a0c4c5d06\n",
        "- https://data.world/browning/capmetro-smart-trips-questionaire"
      ]
    },
    {
      "attachments": {},
      "cell_type": "markdown",
      "metadata": {},
      "source": [
        "The data looks like this (in order of mention):"
      ]
    },
    {
      "attachments": {},
      "cell_type": "markdown",
      "metadata": {},
      "source": [
        "![](images/DC_scorecard.jpeg){width=25%, fig-align=\"center\"}\n",
        "\n",
        "![](images/National_transp_usage.jpeg){width=25%, fig-align=\"center\"}\n",
        "\n",
        "![](images/Walkable_dist.jpeg){width=25%, fig-align=\"center\"}\n",
        "\n",
        "![](images/survey.jpeg){width=25%, fig-align=\"center\"}"
      ]
    }
  ],
  "metadata": {
    "kernelspec": {
      "display_name": "base",
      "language": "python",
      "name": "python3"
    },
    "language_info": {
      "codemirror_mode": {
        "name": "ipython",
        "version": 3
      },
      "file_extension": ".py",
      "mimetype": "text/x-python",
      "name": "python",
      "nbconvert_exporter": "python",
      "pygments_lexer": "ipython3",
      "version": "3.10.9"
    }
  },
  "nbformat": 4,
  "nbformat_minor": 4
}
