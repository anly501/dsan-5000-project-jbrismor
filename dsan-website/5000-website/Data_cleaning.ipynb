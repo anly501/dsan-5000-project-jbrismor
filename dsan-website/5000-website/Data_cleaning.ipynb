{
  "cells": [
    {
      "attachments": {},
      "cell_type": "markdown",
      "metadata": {},
      "source": [
        "---\n",
        "title: Data Cleaning\n",
        "format:\n",
        "  html:\n",
        "    css: h1\n",
        "    embed-resources: true\n",
        "    code-fold: true\n",
        "---"
      ]
    },
    {
      "attachments": {},
      "cell_type": "markdown",
      "metadata": {},
      "source": [
        "## Information about US cities dataset"
      ]
    },
    {
      "cell_type": "code",
      "execution_count": 1,
      "metadata": {},
      "outputs": [
        {
          "name": "stdout",
          "output_type": "stream",
          "text": [
            "CBSA_POP        0\n",
            "CBSA_EMP        0\n",
            "CBSA_WRK        0\n",
            "Ac_Total        0\n",
            "Ac_Water        0\n",
            "Ac_Land         0\n",
            "Ac_Unpr         0\n",
            "TotPop          0\n",
            "P_WrkAge        0\n",
            "AutoOwn0        0\n",
            "Pct_AO0         0\n",
            "AutoOwn1        0\n",
            "Pct_AO1         0\n",
            "AutoOwn2p       0\n",
            "Pct_AO2p        0\n",
            "Workers         0\n",
            "R_LowWageWk     0\n",
            "R_MedWageWk     0\n",
            "R_HiWageWk      0\n",
            "R_PCTLOWWAGE    0\n",
            "TotEmp          0\n",
            "E5_Ret          0\n",
            "E5_Off          0\n",
            "E5_Ind          0\n",
            "E5_Svc          0\n",
            "E5_Ent          0\n",
            "E8_Ret          0\n",
            "E8_off          0\n",
            "E8_Ind          0\n",
            "E8_Svc          0\n",
            "E8_Ent          0\n",
            "E8_Ed           0\n",
            "E8_Hlth         0\n",
            "E8_Pub          0\n",
            "E_LowWageWk     0\n",
            "E_MedWageWk     0\n",
            "E_HiWageWk      0\n",
            "E_PctLowWage    0\n",
            "D1B             0\n",
            "D1C             0\n",
            "D1C5_RET        0\n",
            "D1C5_OFF        0\n",
            "D1C5_IND        0\n",
            "D1C5_SVC        0\n",
            "D1C5_ENT        0\n",
            "D1C8_RET        0\n",
            "D1C8_IND        0\n",
            "D1C8_SVC        0\n",
            "D1C8_ENT        0\n",
            "D1C8_ED         0\n",
            "D1C8_HLTH       0\n",
            "D1C8_PUB        0\n",
            "D1D             0\n",
            "D1_FLAG         0\n",
            "D3A             0\n",
            "D3AAO           0\n",
            "D3AMM           0\n",
            "D3APO           0\n",
            "D3B             0\n",
            "D3BAO           0\n",
            "D3BMM3          0\n",
            "D3BMM4          0\n",
            "D3BPO3          0\n",
            "D3BPO4          0\n",
            "D2A_Ranked      0\n",
            "D2B_Ranked      0\n",
            "D3B_Ranked      0\n",
            "D4A_Ranked      0\n",
            "NatWalkInd      0\n",
            "Shape_Length    0\n",
            "Shape_Area      0\n",
            "dtype: int64\n"
          ]
        }
      ],
      "source": [
        "import pandas as pd\n",
        "\n",
        "file_path = '../../data/Raw_Data_project_Pub.Transport_5000/EPA_SmartLocationDatabase_V3_Jan_2021_Final.csv'\n",
        "\n",
        "df = pd.read_csv(file_path)\n",
        "\n",
        "# Drop unwanted columns\n",
        "df.drop(columns=[\"OBJECTID\", \"GEOID10\", \"GEOID20\", \"STATEFP\", \"COUNTYFP\", \"COUNTYFP\", \"TRACTCE\", \"BLKGRPCE\", \"CSA\", \"CSA_Name\", \"CBSA\", \"CBSA_Name\", \"CountHU\", \"HH\", \"D1A\", \"D1C8_OFF\", \"D4D\", \"D4E\", \"D2A_JPHH\", \"D2B_E5MIX\", \"D2B_E5MIXA\", \"D2B_E8MIX\",\"D2B_E8MIXA\",\"D2A_EPHHM\",\"D2C_TRPMX1\",\"D2C_TRPMX2\",\"D2C_TRIPEQ\",\"D2R_JOBPOP\",\"D2R_WRKEMP\",\"D2A_WRKEMP\",\"D2C_WREMLX\",\"D4A\",\"D4B025\",\"D4B050\",\"D4C\",\"D5AR\",\"D5AE\",\"D5BR\",\"D5BE\",\"D5CR\",\"D5CRI\",\"D5CE\",\"D5CEI\",\"D5DR\",\"D5DRI\",\"D5DE\",\"D5DEI\"], inplace=True)\n",
        "\n",
        "# count NA values\n",
        "pd.set_option('display.max_rows', None)\n",
        "pd.set_option('display.max_columns', None)\n",
        "\n",
        "# print all the columns with NA values\n",
        "print(df.isna().sum())\n",
        "\n",
        "# Assuming your DataFrame is called 'new_df'\n",
        "df.to_csv('../../data/Clean_Data_project_Pub.Transport_5000/EPA_SmartLocationDatabase_V3_Jan_2021_Clean.csv', index=False)\n"
      ]
    },
    {
      "attachments": {},
      "cell_type": "markdown",
      "metadata": {},
      "source": [
        "## Text data "
      ]
    },
    {
      "cell_type": "code",
      "execution_count": null,
      "metadata": {},
      "outputs": [],
      "source": [
        "import json\n",
        "import re\n",
        "\n",
        "# Load the existing JSON file with Reddit post data\n",
        "with open('top_pub_transp_urls.json', 'r') as json_file:\n",
        "    data = json.load(json_file)\n",
        "\n",
        "# Function to clean the text\n",
        "def clean_text(text):\n",
        "    # Remove unwanted characters and escape sequences\n",
        "    cleaned_text = re.sub(r'\\\\u....', '', text)  # Remove escape sequences\n",
        "    cleaned_text = re.sub(r'[^A-Za-z\\s]', ' ', cleaned_text)  # Remove non-alphabetic characters\n",
        "    cleaned_text = re.sub(r'\\s+', ' ', cleaned_text)  # Remove extra whitespace\n",
        "    cleaned_text = cleaned_text.strip()  # Strip leading and trailing spaces\n",
        "    return cleaned_text\n",
        "\n",
        "# Extract and clean the text data\n",
        "cleaned_text_data = []\n",
        "\n",
        "for item in data:\n",
        "    cleaned_text = clean_text(item.get(\"text\", \"\"))\n",
        "    cleaned_text_data.append({\"url\": item[\"url\"], \"cleaned_text\": cleaned_text})\n",
        "\n",
        "# Save the cleaned text data to a new JSON file\n",
        "with open('cleaned_text_data.json', 'w') as json_file:\n",
        "    json.dump(cleaned_text_data, json_file, indent=4)\n",
        "\n",
        "print(\"Text data cleaned and saved to cleaned_text_data.json.\")"
      ]
    },
    {
      "attachments": {},
      "cell_type": "markdown",
      "metadata": {},
      "source": [
        "The previous code cleans the text data such that we only get the urls and the text of each reddit post. It can be found in the data tab. That way it can be later used for key word extraction.\n",
        "\n",
        "Note: the sentiment analysis was already extracted and saved in the data tab."
      ]
    },
    {
      "attachments": {},
      "cell_type": "markdown",
      "metadata": {},
      "source": [
        "clean data as vocabulary each col and each row number of appareances"
      ]
    }
  ],
  "metadata": {
    "kernelspec": {
      "display_name": "base",
      "language": "python",
      "name": "python3"
    },
    "language_info": {
      "codemirror_mode": {
        "name": "ipython",
        "version": 3
      },
      "file_extension": ".py",
      "mimetype": "text/x-python",
      "name": "python",
      "nbconvert_exporter": "python",
      "pygments_lexer": "ipython3",
      "version": "3.9.0"
    }
  },
  "nbformat": 4,
  "nbformat_minor": 4
}
