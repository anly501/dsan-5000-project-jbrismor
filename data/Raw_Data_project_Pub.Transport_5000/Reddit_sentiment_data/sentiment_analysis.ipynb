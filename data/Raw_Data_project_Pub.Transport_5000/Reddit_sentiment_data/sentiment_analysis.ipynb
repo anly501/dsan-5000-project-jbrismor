{
 "cells": [
  {
   "cell_type": "code",
   "execution_count": 12,
   "metadata": {},
   "outputs": [],
   "source": [
    "import json\n",
    "import re\n",
    "\n",
    "# Load the existing JSON file with Reddit post data\n",
    "with open('top_pub_transp_urls.json', 'r') as json_file:\n",
    "    data = json.load(json_file)\n",
    "\n",
    "# Function to clean the text\n",
    "def clean_text(text):\n",
    "    # Remove unwanted characters and escape sequences\n",
    "    cleaned_text = re.sub(r'\\\\u....', '', text)  # Remove escape sequences\n",
    "    cleaned_text = re.sub(r'[^A-Za-z\\s]', ' ', cleaned_text)  # Remove non-alphabetic characters\n",
    "    cleaned_text = re.sub(r'\\s+', ' ', cleaned_text)  # Remove extra whitespace\n",
    "    cleaned_text = cleaned_text.strip()  # Strip leading and trailing spaces\n",
    "    return cleaned_text\n",
    "\n",
    "# Extract and clean the text data\n",
    "cleaned_text_data = []\n",
    "\n",
    "for item in data:\n",
    "    cleaned_text = clean_text(item.get(\"text\", \"\"))\n",
    "    cleaned_text_data.append({\"url\": item[\"url\"], \"cleaned_text\": cleaned_text})\n",
    "\n",
    "# Save the cleaned text data to a new JSON file\n",
    "with open('cleaned_text_data.json', 'w') as json_file:\n",
    "    json.dump(cleaned_text_data, json_file, indent=4)\n",
    "\n",
    "\n"
   ]
  },
  {
   "cell_type": "code",
   "execution_count": 13,
   "metadata": {},
   "outputs": [],
   "source": [
    "import json\n",
    "import requests\n",
    "from vaderSentiment.vaderSentiment import SentimentIntensityAnalyzer\n",
    "\n",
    "# Load URLs from the JSON file\n",
    "with open('top_pub_transp_urls.json', 'r') as json_file:\n",
    "    urls_text = json.load(json_file)\n",
    "\n",
    "\n",
    "text = [item['text'] for item in urls_text]\n",
    "\n",
    "# Initialize the sentiment analyzer\n",
    "analyzer = SentimentIntensityAnalyzer()\n",
    "\n",
    "# Initialize a list to store the results\n",
    "sentiment_results = []\n",
    "\n",
    "# Analyze the sentiment of each text and store the results\n",
    "for item in urls_text:\n",
    "    text = item['text']\n",
    "    sentiment = analyzer.polarity_scores(text)\n",
    "    sentiment_score = sentiment['compound']\n",
    "    \n",
    "    # Create a dictionary with the URL, text, and sentiment score\n",
    "    result = {\n",
    "        'url': item['url'],\n",
    "        'text': text,\n",
    "        'sentiment_score': sentiment_score\n",
    "    }\n",
    "    \n",
    "    sentiment_results.append(result)\n",
    "\n",
    "# Save the sentiment results in a new JSON file\n",
    "with open('sentiment_results.json', 'w') as output_file:\n",
    "    json.dump(sentiment_results, output_file, indent=4)\n",
    "\n",
    "\n"
   ]
  }
 ],
 "metadata": {
  "kernelspec": {
   "display_name": "base",
   "language": "python",
   "name": "python3"
  },
  "language_info": {
   "codemirror_mode": {
    "name": "ipython",
    "version": 3
   },
   "file_extension": ".py",
   "mimetype": "text/x-python",
   "name": "python",
   "nbconvert_exporter": "python",
   "pygments_lexer": "ipython3",
   "version": "3.10.9"
  },
  "orig_nbformat": 4
 },
 "nbformat": 4,
 "nbformat_minor": 2
}
