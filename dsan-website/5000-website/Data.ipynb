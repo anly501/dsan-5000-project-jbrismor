{
 "cells": [
  {
   "attachments": {},
   "cell_type": "markdown",
   "metadata": {},
   "source": [
    "---\n",
    "title: Data\n",
    "format:\n",
    "  html:\n",
    "    css: \"styles.css\"\n",
    "    embed-resources: true\n",
    "    code-fold: true\n",
    "---"
   ]
  },
  {
   "attachments": {},
   "cell_type": "markdown",
   "metadata": {},
   "source": [
    "## Data\n",
    "The data sets can be found in the following link: [Press here!](https://drive.google.com/drive/folders/12YhuYiedWYBriuwf8VGJU9xKm0k7uO8H?usp=drive_link)\n",
    "\n",
    "They have not been added to our Git Hub repository due to their size."
   ]
  },
  {
   "attachments": {},
   "cell_type": "markdown",
   "metadata": {},
   "source": [
    "## Meanwhile, enjoy these pictures I took that have different methods of transportation!\n",
    "\n",
    "![](images/car_Pittsburgh.jpg){width=50%, fig-align=\"center\"}\n",
    "\n",
    "![](images/bench_pic.jpg){width=50%, fig-align=\"center\"}\n",
    "\n",
    "![](images/moto_pic.jpg){width=50%, fig-align=\"center\"}"
   ]
  }
 ],
 "metadata": {
  "kernelspec": {
   "display_name": "Python 3",
   "language": "python",
   "name": "python3"
  },
  "language_info": {
   "name": "python",
   "version": "3.9.0"
  },
  "orig_nbformat": 4
 },
 "nbformat": 4,
 "nbformat_minor": 2
}
